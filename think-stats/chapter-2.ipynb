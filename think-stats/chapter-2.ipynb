{
 "metadata": {
  "name": ""
 },
 "nbformat": 3,
 "nbformat_minor": 0,
 "worksheets": [
  {
   "cells": [
    {
     "cell_type": "markdown",
     "metadata": {},
     "source": [
      "# Chapter 2: Descriptive Statistics\n",
      "\n",
      "## Mean\n",
      "$\\mu = \\frac{1}{n} \\sum_{\\substack{i}} x_i$ \n",
      "fancy way of saying $\\frac{sum(x)}{len(x)}$\n",
      "\n",
      "## Variance\n",
      "$\\sigma^2 = \\frac{1}{n} \\sum_{\\substack{i}} (x_i - \\mu)^2$ \n",
      "\n",
      "We start with $x_i-\\mu$, ie. deviation from the mean, sum it up for all, and square it. \n",
      "\n",
      "Let me try to write a very simple function for calculating the variance."
     ]
    },
    {
     "cell_type": "code",
     "collapsed": false,
     "input": [
      "def mean_(lst):\n",
      "    return(sum(lst)/len(lst))\n",
      "\n",
      "def variancelst_(lst):\n",
      "    mu = mean_(lst)\n",
      "    return([abs(x-mu) for x in lst]) # generates a list showing the square deviance from the mean for each list item\n",
      "\n",
      "def variance_(lst):\n",
      "    mu = mean_(lst)\n",
      "    varlst = [x**2 for x in variancelst_(lst)] # generates a list showing the square deviance from the mean for each list item\n",
      "    return(sum(varlst)/len(lst)) # returns the sum of the list, divided by number of elements. Average square deviance.    \n",
      "\n",
      "example = [1,2,344,3,1,3,45,46,4,3]\n",
      "\n",
      "print(variance_(example) == var(example))\n",
      "print(std(example) == stddev_(example))"
     ],
     "language": "python",
     "metadata": {},
     "outputs": [
      {
       "output_type": "stream",
       "stream": "stdout",
       "text": [
        "True\n",
        "True\n"
       ]
      }
     ],
     "prompt_number": 70
    },
    {
     "cell_type": "markdown",
     "metadata": {},
     "source": [
      "Let's try figuring out Matplotlib, and plot the numbers against their deviance, with the read line as the mean. Thus, when the green line (the number) meets the red line (the mean), the blue line (the deviance) is 0."
     ]
    },
    {
     "cell_type": "code",
     "collapsed": false,
     "input": [
      "plot(example, color='green')\n",
      "plot(variancelst_(example), color='blue')\n",
      "axhline(mean_(example) ,color='red')\n",
      "annotate('deviance = 0', xy=(6.5, 50), xytext=(7, 100),\n",
      "    arrowprops=dict(facecolor='black', shrink=0.05))"
     ],
     "language": "python",
     "metadata": {},
     "outputs": [
      {
       "metadata": {},
       "output_type": "pyout",
       "prompt_number": 37,
       "text": [
        "<matplotlib.text.Annotation at 0x1079ddc10>"
       ]
      },
      {
       "metadata": {},
       "output_type": "display_data",
       "png": "[encoded data removed]",
       "text": [
        "<matplotlib.figure.Figure at 0x1078f75d0>"
       ]
      }
     ],
     "prompt_number": 37
    },
    {
     "cell_type": "markdown",
     "metadata": {},
     "source": [
      "I got carried away and decided to define the standard deviation, and the mean and the mode as well. "
     ]
    },
    {
     "cell_type": "code",
     "collapsed": false,
     "input": [
      "def stddev_(lst):\n",
      "    return(sqrt(variance_(lst)))\n",
      "\n",
      "def even(n):\n",
      "    return n % 2 == 0\n",
      "\n",
      "def median_(lst):\n",
      "    srt = sorted(lst)\n",
      "    \n",
      "    mid = len(lst) // 2\n",
      "    if even(len(lst)):\n",
      "        return( (srt[mid-1] + srt[mid]) / 2)\n",
      "    else:\n",
      "        return(srt[mid])\n",
      "\n",
      "from collections import Counter\n",
      "def mode_(lst):\n",
      "    cnt = Counter(lst)\n",
      "    cntsort = sorted(cnt.items(), key=lambda x: x[1])\n",
      "    return(cntsort[-1][0])  # return the key of the last item, ie. with most occurrences. Not deterministic without unique mode.\n"
     ],
     "language": "python",
     "metadata": {},
     "outputs": []
    },
    {
     "cell_type": "markdown",
     "metadata": {},
     "source": [
      "Let's play with the formatting function, and a list comprehension with functions, to print a nice statistical summary."
     ]
    },
    {
     "cell_type": "code",
     "collapsed": false,
     "input": [
      "def summary_(lst):\n",
      "    fns = [\n",
      "           (\"Number of items\", len),\n",
      "           (\"Mean\", mean_),\n",
      "           (\"Median\", median_),\n",
      "           (\"Mode\", mode_),\n",
      "           (\"Variance\", variance_),\n",
      "           (\"Std. dev\", stddev_)\n",
      "           ]\n",
      "    \n",
      "    outary = [\"{:<20}{:8.2f}\".format(title, fun(lst)) for (title, fun) in fns]\n",
      "    print(\"\\n\".join(outary))\n",
      "\n",
      "summary_(example)"
     ],
     "language": "python",
     "metadata": {},
     "outputs": [
      {
       "output_type": "stream",
       "stream": "stdout",
       "text": [
        "Number of items        10.00\n",
        "Mean                   45.20\n",
        "Median                  3.00\n",
        "Mode                    3.00\n",
        "Variance            10209.56\n",
        "Std. dev              101.04\n"
       ]
      }
     ],
     "prompt_number": 72
    },
    {
     "cell_type": "markdown",
     "metadata": {},
     "source": [
      "Now let's load in the birth dataset, and look at the summary stats for it."
     ]
    },
    {
     "cell_type": "code",
     "collapsed": false,
     "input": [
      "import pickle\n",
      "with open(\"/Users/Stian/src/math-with-ipython/think-stats/preg-pandas.pickle\", \"rb\") as f:\n",
      "    df, df1, dfnot1 = pickle.load(f)\n",
      "    \n",
      "print(\"First child:\")\n",
      "summary_(df1.prglength)\n",
      "print(\"\\nNot first child:\")\n",
      "summary_(dfnot1.prglength)"
     ],
     "language": "python",
     "metadata": {},
     "outputs": [
      {
       "output_type": "stream",
       "stream": "stdout",
       "text": [
        "First child:\n",
        "Number of items      4413.00\n",
        "Mean                   38.60\n",
        "Median                 39.00\n",
        "Mode                   39.00\n",
        "Variance                7.79\n",
        "Std. dev                2.79"
       ]
      },
      {
       "output_type": "stream",
       "stream": "stdout",
       "text": [
        "\n",
        "\n",
        "Not first child:\n",
        "Number of items      4735.00\n",
        "Mean                   38.52\n",
        "Median                 39.00\n",
        "Mode                   39.00\n",
        "Variance                6.84\n",
        "Std. dev                2.62"
       ]
      },
      {
       "output_type": "stream",
       "stream": "stdout",
       "text": [
        "\n"
       ]
      }
     ],
     "prompt_number": 81
    },
    {
     "cell_type": "markdown",
     "metadata": {},
     "source": [
      "End on p 24"
     ]
    },
    {
     "cell_type": "code",
     "collapsed": false,
     "input": [],
     "language": "python",
     "metadata": {},
     "outputs": []
    }
   ],
   "metadata": {}
  }
 ]
}