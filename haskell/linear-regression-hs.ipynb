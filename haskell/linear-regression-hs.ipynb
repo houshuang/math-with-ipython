{
 "metadata": {
  "language": "haskell",
  "name": ""
 },
 "nbformat": 3,
 "nbformat_minor": 0,
 "worksheets": [
  {
   "cells": [
    {
     "cell_type": "markdown",
     "metadata": {},
     "source": [
      "# Linear regression with least squares\n",
      "\n",
      "Given a number of points, we want to draw the straight line which leads to the lowest Mean Squared Error. "
     ]
    },
    {
     "cell_type": "code",
     "collapsed": false,
     "input": [
      "-- a quick graphing function\n",
      "\n",
      "import Graphics.Rendering.Chart.Renderable\n",
      "import Graphics.Rendering.Chart.Simple\n",
      "import Data.Default.Class\n",
      "import Data.Colour\n",
      "import Data.Colour.Names\n",
      "import Control.Lens\n",
      "\n",
      "-- for example plot [1,1.1..10] sin\n",
      "qplot range function = toRenderable $ plotLayout $ plot range function"
     ],
     "language": "python",
     "metadata": {},
     "outputs": [],
     "prompt_number": 128
    },
    {
     "cell_type": "markdown",
     "metadata": {},
     "source": [
      "My natural inclination would have been to just use generic data types, such as lists, hashes etc, but in Haskell, we seem to be encouraged to use more specific types, and it's anyway a good exericise to learn more about the typing system. I'll define a type for 2D points, and one for an infinite straight line, with an intercept and a slope. I'll also define a convenience function for converting tuples into points. "
     ]
    },
    {
     "cell_type": "code",
     "collapsed": false,
     "input": [
      "data Point = Pt {ptx, pty :: Float} deriving (Show, Eq)\n",
      "data Line = Line {intercept, slope :: Float} deriving (Show, Eq)\n",
      "\n",
      "tupleToPoint :: (Float, Float) -> Point\n",
      "tupleToPoint (x,y) = Pt {ptx = x, pty = y}\n",
      "\n",
      "tupleList = [(1,2), (2,3), (4,5)] :: [(Float, Float)]\n",
      "ptList = map tupleToPoint tupleList\n",
      "ptList"
     ],
     "language": "python",
     "metadata": {},
     "outputs": [
      {
       "metadata": {},
       "output_type": "display_data",
       "text": [
        "[Pt {ptx = 1.0, pty = 2.0},Pt {ptx = 2.0, pty = 3.0},Pt {ptx = 4.0, pty = 5.0}]"
       ]
      }
     ],
     "prompt_number": 129
    },
    {
     "cell_type": "markdown",
     "metadata": {},
     "source": [
      "A good place to start searching for the derived line would be in the center of the points, calculated by taking the average of the xs, and the average of the ys. Let's define a function for that."
     ]
    },
    {
     "cell_type": "code",
     "collapsed": false,
     "input": [
      "findCenter :: [Point] -> Maybe Point\n",
      "findCenter [] = Nothing\n",
      "findCenter points = Just Pt {ptx = avgXs, pty = avgYs}\n",
      "\twhere\n",
      "\t \txs = [ptx pt | pt <- points]\n",
      "\t\tys = [pty pt | pt <- points]\n",
      "\t\tavgXs = sum xs / (fromIntegral $ length xs)\n",
      "\t\tavgYs = sum ys / (fromIntegral $ length ys)\n",
      "        \n",
      "ctr = findCenter ptList\n",
      "ctr"
     ],
     "language": "python",
     "metadata": {},
     "outputs": [
      {
       "html": [
        " <div class=\"suggestion-name\" style=\"clear:both;\"> Redundant $</div>  <div class=\"suggestion-row\" style=\"float: left;\"> <div class=\"suggestion-warning\">Found:</div>  <div class=\"highlight-code\" id=\"haskell\">  sum xs / (fromIntegral $ length xs)\n",
        "</div> </div>  <div class=\"suggestion-row\" style=\"float: left;\"> <div class=\"suggestion-warning\">Why Not:</div>  <div class=\"highlight-code\" id=\"haskell\">  sum xs / fromIntegral (length xs)\n",
        "</div> </div>  <div class=\"suggestion-name\" style=\"clear:both;\"> Redundant $</div>  <div class=\"suggestion-row\" style=\"float: left;\"> <div class=\"suggestion-warning\">Found:</div>  <div class=\"highlight-code\" id=\"haskell\">  sum ys / (fromIntegral $ length ys)\n",
        "</div> </div>  <div class=\"suggestion-row\" style=\"float: left;\"> <div class=\"suggestion-warning\">Why Not:</div>  <div class=\"highlight-code\" id=\"haskell\">  sum ys / fromIntegral (length ys)\n",
        "</div> </div> "
       ],
       "metadata": {},
       "output_type": "display_data",
       "text": [
        "Line 7:  Redundant $\n",
        "Found:\n",
        "  sum xs / (fromIntegral $ length xs)\n",
        "\n",
        "Why not:\n",
        "  sum xs / fromIntegral (length xs)\n",
        "Line 8:  Redundant $\n",
        "Found:\n",
        "  sum ys / (fromIntegral $ length ys)\n",
        "\n",
        "Why not:\n",
        "  sum ys / fromIntegral (length ys)"
       ]
      },
      {
       "metadata": {},
       "output_type": "display_data",
       "text": [
        "Just (Pt {ptx = 2.3333333, pty = 3.3333333})"
       ]
      }
     ],
     "prompt_number": 130
    },
    {
     "cell_type": "markdown",
     "metadata": {},
     "source": [
      "Given a line, and a series of point, can I calculate the MSE? First, I need to calculate where a point on the line given a certain x would be, and the difference between the x of the point on the same y."
     ]
    },
    {
     "cell_type": "code",
     "collapsed": false,
     "input": [
      "line1 = Line {intercept=1.0, slope=2.0} -- y=2x+1\n",
      "\n",
      "lineYatX :: Line -> Float -> Float\n",
      "lineYatX line x = intercept line + slope line * x\n",
      "\n",
      "errorLinePoint :: Line -> Point -> Float\n",
      "errorLinePoint line pt = lineYatX line (ptx pt) - pty pt\n",
      "\n",
      "errorLinePoint line1 $ tupleToPoint (5,4)"
     ],
     "language": "python",
     "metadata": {},
     "outputs": [
      {
       "metadata": {},
       "output_type": "display_data",
       "text": [
        "7.0"
       ]
      }
     ],
     "prompt_number": 131
    },
    {
     "cell_type": "markdown",
     "metadata": {},
     "source": [
      "So at x=5, the point is y=4, but the line is 2x+1 = 11, thus the difference is 7. Note that I'm still playing with types - I chose to use a record for points, but this means that I can't use ptx/pty as independent constructors (I think). If they were independent constructors, I could have pattern-matched lineAt for either X or Y... I am also passing around Floats instead of something more specific... Just slowly getting a feel for things. \n",
      "\n",
      "Also writing a bunch of small functions and making things very explicit to get a good sense of things.\n",
      "\n",
      "Now we should be able to the MSE of a cluster of points with a line very easily."
     ]
    },
    {
     "cell_type": "code",
     "collapsed": false,
     "input": [
      "mSE :: Line -> [Point] -> Float\n",
      "mSE line points = sum sqerrs / fromIntegral (length points)\n",
      "    where\n",
      "        errs = map (errorLinePoint line) points\n",
      "        sqerrs = map (** 2.0) errs\n",
      "\n",
      "mSE line1 ptList"
     ],
     "language": "python",
     "metadata": {},
     "outputs": [
      {
       "metadata": {},
       "output_type": "display_data",
       "text": [
        "7.0"
       ]
      }
     ],
     "prompt_number": 132
    },
    {
     "cell_type": "markdown",
     "metadata": {},
     "source": [
      "Now let's calculate the MSE for lines with varying slope"
     ]
    },
    {
     "cell_type": "code",
     "collapsed": false,
     "input": [
      "lineList = [Line {slope=x, intercept=2.0} | x <- [1.0, 2.0, 3.0, 4.0, 5.0]]\n",
      "\n",
      "map (`mSE` ptList) lineList"
     ],
     "language": "python",
     "metadata": {},
     "outputs": [
      {
       "metadata": {},
       "output_type": "display_data",
       "text": [
        "[1.0,12.666667,38.333332,78.0,131.66667]"
       ]
      }
     ],
     "prompt_number": 133
    },
    {
     "cell_type": "markdown",
     "metadata": {},
     "source": [
      "Let's try to find the optimal fit, varying first slope and then intercept... \n",
      "\n",
      "First let me define a function that finds the infinite line that intercepts two given points."
     ]
    },
    {
     "cell_type": "code",
     "collapsed": false,
     "input": [
      "findInterceptLine :: Point -> Point -> Line\n",
      "findInterceptLine pt1 pt2 = Line {intercept = intercept', slope = slope'}\n",
      "    where\n",
      "        slope' = dy / dx\n",
      "        dx = ptx pt1 / ptx pt2\n",
      "        dy = pty pt1 / pty pt2\n",
      "        intercept' = pty pt1 - (ptx pt1 * slope') \n",
      "        \n",
      "line2 = findInterceptLine Pt {ptx=1.0, pty=10.0} Pt {ptx=2.0, pty=20.0} -- should be slope=2, intercept=-1\n",
      "print line2 \n",
      "\n",
      "getLinePoints :: Line -> [Float] -> [Point]\n",
      "getLinePoints line xs = zipWith (curry tupleToPoint) xs $ map (lineYatX line) xs\n",
      "getLinePoints line2 [1.0..10]"
     ],
     "language": "python",
     "metadata": {},
     "outputs": [
      {
       "metadata": {},
       "output_type": "display_data",
       "text": [
        "Line {intercept = 9.0, slope = 1.0}"
       ]
      },
      {
       "metadata": {},
       "output_type": "display_data",
       "text": [
        "[Pt {ptx = 1.0, pty = 10.0},Pt {ptx = 2.0, pty = 11.0},Pt {ptx = 3.0, pty = 12.0},Pt {ptx = 4.0, pty = 13.0},Pt {ptx = 5.0, pty = 14.0},Pt {ptx = 6.0, pty = 15.0},Pt {ptx = 7.0, pty = 16.0},Pt {ptx = 8.0, pty = 17.0},Pt {ptx = 9.0, pty = 18.0},Pt {ptx = 10.0, pty = 19.0}]"
       ]
      }
     ],
     "prompt_number": 138
    },
    {
     "cell_type": "code",
     "collapsed": false,
     "input": [
      "getCombinations :: [a] -> [[a]]\n",
      "getCombinations na = do\n",
      "    a <- na\n",
      "    b <- na\n",
      "    [[a,b]]\n",
      "a = getCombinations [1,2,3,4,5]\n",
      "\n",
      "eqPairs :: (Eq a) => [a] -> [a] -> Bool \n",
      "eqPairs x y = head x `elem` y && x !! 1 `elem` y\n",
      "\n",
      "nubBy eqPairs a"
     ],
     "language": "python",
     "metadata": {},
     "outputs": [
      {
       "metadata": {},
       "output_type": "display_data",
       "text": [
        "[[1,1],[1,2],[1,3],[1,4],[1,5],[2,3],[2,4],[2,5],[3,4],[3,5],[4,5]]"
       ]
      }
     ],
     "prompt_number": 171
    }
   ],
   "metadata": {}
  }
 ]
}